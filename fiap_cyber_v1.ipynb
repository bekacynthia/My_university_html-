{
  "nbformat": 4,
  "nbformat_minor": 0,
  "metadata": {
    "colab": {
      "name": "Untitled0.ipynb",
      "provenance": [],
      "authorship_tag": "ABX9TyOV8noN1OU0ZiZHtAdNiovA",
      "include_colab_link": true
    },
    "kernelspec": {
      "name": "python3",
      "display_name": "Python 3"
    },
    "language_info": {
      "name": "python"
    }
  },
  "cells": [
    {
      "cell_type": "markdown",
      "metadata": {
        "id": "view-in-github",
        "colab_type": "text"
      },
      "source": [
        "<a href=\"https://colab.research.google.com/github/bekacynthia/My_university_html-/blob/master/fiap_cyber_v1.ipynb\" target=\"_parent\"><img src=\"https://colab.research.google.com/assets/colab-badge.svg\" alt=\"Open In Colab\"/></a>"
      ]
    },
    {
      "cell_type": "markdown",
      "source": [
        "identificação de usuários precisando de tratamento mental"
      ],
      "metadata": {
        "id": "9ANQ5z8WFEIR"
      }
    },
    {
      "cell_type": "code",
      "execution_count": null,
      "metadata": {
        "id": "mw7igsq9Equ6"
      },
      "outputs": [],
      "source": [
        "#triste, tristeza, cabeça, mente, suicídio, suicida, morte, caixão, túmulo, pânico, obsessão, obsessivo, obsessiva, transtorno, transtornado, perturbado, perturbada, perturbação, enterro, céu, inferno, partir, toc, tdah, alucinação, paranóico, paranóia, me sinto mal, me sinto péssimo, me matar, me suicidar, doido, doida, pirado, pirada, alucinado, alucinada, enforcar, enforcar-se, me enforcar, enforcar-se, overdose, enforcar-me, me jogar"
      ]
    },
    {
      "cell_type": "code",
      "source": [
        "lista = [\"triste\", \"tristeza\", \"cabeça\", \"mente\", \"suicídio\", \"suicida\", \"morte\", \"caixão\", \"túmulo\", \"pânico\", \"obsessão\", \"obsessivo\", \"obsessiva\", \"transtorno\", \"transtornado\", \"perturbado\", \"perturbada\", \"perturbação\", \"enterro\", \"céu\", \"inferno\", \"partir\", \"toc\", \"tdah\", \"alucinação\", \"paranóico\", \"paranóia\", \"me sinto mal\", \"me sinto péssimo\", \"me matar\", \"me suicidar\", \"doido\", \"doida\", \"pirado\", \"pirada\", \"alucinado\", \"alucinada\", \"enforcar\", \"enforcar-se\", \"me enforcar\", \"enforcar-se\", \"overdose\", \"enforcar-me\", \"me jogar\"]\n",
        "texto = input() #blablabla\n",
        "if(texto in lista): \n",
        "  print(\"Item proibido\") #tecla tab para indentação\n",
        "else:\n",
        "  print(\"Item permitido\") #tecla tab para indentação"
      ],
      "metadata": {
        "colab": {
          "base_uri": "https://localhost:8080/"
        },
        "id": "Y9L0Ho1xz4ZV",
        "outputId": "f5e96a3b-06a9-4a23-8852-cc09de927e1f"
      },
      "execution_count": null,
      "outputs": [
        {
          "output_type": "stream",
          "name": "stdout",
          "text": [
            "tristeza\n",
            "Item proibido\n"
          ]
        }
      ]
    },
    {
      "cell_type": "code",
      "source": [
        "import re\n",
        "\n",
        "def getMatchRegex(field):\n",
        "  match = re.search('(triste)|(tristeza)|(cabeça)|(mente)|(suicídio)|(suicida)|(morte)|(caixão)|(túmulo)|(pânico)|(obsessão)|(obsessivo)|(obsessiva)|(transtorno)|(transtornado)|(perturbado)|(perturbada)|(perturbação)|(enterro)|(céu)|(inferno)|(partir)|(toc)|(tdah)|(alucinação)', field.lower())\n",
        "\n",
        "  if match:\n",
        "    print('Produto proibido? Sim')\n",
        "  else:\n",
        "    print('Produto proibido? Não')\n",
        "\n",
        "getMatchRegex(input())"
      ],
      "metadata": {
        "colab": {
          "base_uri": "https://localhost:8080/"
        },
        "id": "S5zBYvIm3ive",
        "outputId": "87a6b970-3cb5-41e6-8814-9d81d3a11a42"
      },
      "execution_count": null,
      "outputs": [
        {
          "output_type": "stream",
          "name": "stdout",
          "text": [
            "Ameaça física.\n",
            "Produto proibido? Não\n"
          ]
        }
      ]
    }
  ]
}